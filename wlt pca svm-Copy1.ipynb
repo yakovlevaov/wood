{
 "cells": [
  {
   "cell_type": "code",
   "execution_count": 1,
   "metadata": {},
   "outputs": [],
   "source": [
    "!conda activate deeplearning"
   ]
  },
  {
   "cell_type": "code",
   "execution_count": 2,
   "metadata": {},
   "outputs": [],
   "source": [
    "import scipy.io\n",
    "import pandas as pd"
   ]
  },
  {
   "cell_type": "code",
   "execution_count": 3,
   "metadata": {},
   "outputs": [],
   "source": [
    "import numpy as np\n",
    "import matplotlib.pyplot as plt"
   ]
  },
  {
   "cell_type": "code",
   "execution_count": null,
   "metadata": {},
   "outputs": [],
   "source": [
    "from sklearn.model_selection import train_test_split\n",
    "from sklearn import svm\n",
    "from sklearn.metrics import accuracy_score"
   ]
  },
  {
   "cell_type": "code",
   "execution_count": null,
   "metadata": {},
   "outputs": [],
   "source": [
    "#import soundfile as sf\n",
    "#import librosa\n",
    "\n",
    "import pywt"
   ]
  },
  {
   "cell_type": "raw",
   "metadata": {},
   "source": [
    "# save numpy array audio data as csv file\n",
    "from numpy import asarray\n",
    "from numpy import savetxt\n",
    "from numpy import save\n",
    "\n",
    "# define data\n",
    "data_audio_data = audio_data\n",
    "data_labels = labels\n",
    "# save to csv file\n",
    "savetxt('data_audio_data3.csv', data_audio_data, delimiter=',')\n",
    "savetxt('data_labels3.csv', data_labels, delimiter=',')"
   ]
  },
  {
   "cell_type": "code",
   "execution_count": null,
   "metadata": {},
   "outputs": [],
   "source": [
    "# load numpy array from csv file\n",
    "from numpy import loadtxt\n",
    "from numpy import load\n",
    "# load array \n",
    "data_load_audio_data = loadtxt('data_audio_data3.csv', delimiter=',')\n",
    "data_load_labels = loadtxt('data_labels3.csv', delimiter=',')\n",
    "#features = loadtxt('data_features_1000x1000.csv')\n",
    "coef_all = load('data_coeff_512.npy')"
   ]
  },
  {
   "cell_type": "code",
   "execution_count": null,
   "metadata": {},
   "outputs": [],
   "source": [
    "audio_data = np.empty((0, 1024))\n",
    "labels = np.empty((0, ))\n",
    "for j in range(data_load_audio_data.shape[0]):\n",
    "    for i in range(data_load_audio_data.shape[1] // 1024):\n",
    "        k = i*1024\n",
    "        audio_data = np.append(audio_data, [data_load_audio_data[j][k:k+1024]], axis = 0)\n",
    "        labels = np.append(labels, [data_load_labels[j]], axis = 0)"
   ]
  },
  {
   "cell_type": "code",
   "execution_count": null,
   "metadata": {},
   "outputs": [],
   "source": [
    "plt.figure(1, figsize=(30,10))\n",
    "plt.subplot(131)\n",
    "plt.plot(audio_data[1])\n",
    "plt.subplot(132)\n",
    "plt.plot(audio_data[240])\n",
    "plt.subplot(133)\n",
    "plt.plot(audio_data[400])\n",
    "\n",
    "plt.show()"
   ]
  },
  {
   "cell_type": "code",
   "execution_count": null,
   "metadata": {},
   "outputs": [],
   "source": [
    "scales = np.arange(1, 512+1, 1)\n",
    "coeff1, freqs1 = pywt.cwt(audio_data[1], scales, 'morl')\n",
    "coeff2, freqs2 = pywt.cwt(audio_data[240], scales, 'morl')\n",
    "coeff3, freqs3 = pywt.cwt(audio_data[400], scales, 'morl')"
   ]
  },
  {
   "cell_type": "code",
   "execution_count": null,
   "metadata": {},
   "outputs": [],
   "source": [
    "plt.figure(1, figsize=(30,10))\n",
    "plt.subplot(131)\n",
    "plt.imshow(coeff1, cmap='coolwarm', aspect='auto')  \n",
    "plt.subplot(132)\n",
    "plt.imshow(coeff2, cmap='coolwarm', aspect='auto')  \n",
    "plt.subplot(133)\n",
    "plt.imshow(coeff3, cmap='coolwarm', aspect='auto') \n",
    "\n",
    "plt.show() "
   ]
  },
  {
   "cell_type": "code",
   "execution_count": null,
   "metadata": {},
   "outputs": [],
   "source": [
    "from mpl_toolkits.mplot3d import Axes3D\n",
    "from matplotlib import cm\n",
    "\n",
    "fig = plt.figure(figsize=(60,20))\n",
    "\n",
    "ax1 = fig.add_subplot(1, 3, 1, projection='3d')\n",
    "\n",
    "Y = np.arange(1, 513, 1)\n",
    "X = np.arange(1, 1025, 1)\n",
    "\n",
    "X, Y = np.meshgrid(X, Y)\n",
    "\n",
    "ax1.plot_surface(X, Y, coeff1, cmap=cm.coolwarm, linewidth=0, antialiased=True)\n",
    "\n",
    "ax1.set_xlabel(\"Time\", fontsize=20)\n",
    "ax1.set_ylabel(\"Scale\", fontsize=20)\n",
    "ax1.set_zlabel(\"Amplitude\", fontsize=20)\n",
    "ax1.set_zlim3d(-1,1)\n",
    "\n",
    "ax2 = fig.add_subplot(1, 3, 2, projection='3d')\n",
    "\n",
    "ax2.plot_surface(X, Y, coeff2, cmap=cm.coolwarm, linewidth=0, antialiased=True)\n",
    "\n",
    "\n",
    "ax2.set_xlabel(\"Time\", fontsize=20)\n",
    "ax2.set_ylabel(\"Scale\", fontsize=20)\n",
    "ax2.set_zlabel(\"Amplitude\", fontsize=20)\n",
    "ax2.set_zlim3d(-1,1)\n",
    "\n",
    "ax3= fig.add_subplot(1, 3, 3, projection='3d')\n",
    "\n",
    "ax3.plot_surface(X, Y, coeff3, cmap=cm.coolwarm, linewidth=0, antialiased=True)\n",
    "\n",
    "\n",
    "ax3.set_xlabel(\"Time\", fontsize=20)\n",
    "ax3.set_ylabel(\"Scale\", fontsize=20)\n",
    "ax3.set_zlabel(\"Amplitude\", fontsize=20)\n",
    "ax3.set_zlim3d(-1,1)\n",
    "\n",
    "plt.show()"
   ]
  },
  {
   "cell_type": "code",
   "execution_count": null,
   "metadata": {},
   "outputs": [],
   "source": [
    "from sklearn.decomposition import PCA\n",
    "\n",
    "pca = PCA(n_components=1)\n",
    "\n",
    "features = np.empty((0,512))\n",
    "\n",
    "for ind in range(len(audio_data)):\n",
    "    print('.', end='')\n",
    "    #coeff, freqs = pywt.cwt(audio_data[ind][:1000], scales, 'morl')  \n",
    "    coeff = coef_all[ind]\n",
    "    features = np.vstack([features, pca.fit_transform(coeff).flatten()])"
   ]
  },
  {
   "cell_type": "code",
   "execution_count": null,
   "metadata": {},
   "outputs": [],
   "source": [
    "X_train, X_test, y_train, y_test = train_test_split(features, labels, test_size=0.25, random_state=7)"
   ]
  },
  {
   "cell_type": "code",
   "execution_count": null,
   "metadata": {},
   "outputs": [],
   "source": [
    "clf = svm.SVC()\n",
    "clf.fit(X_train, y_train)"
   ]
  },
  {
   "cell_type": "code",
   "execution_count": null,
   "metadata": {},
   "outputs": [],
   "source": [
    "y_pred = clf.predict(X_test)\n",
    "print(\"Accuracy : %.2f%%\" % (accuracy_score(y_test, y_pred) * 100))"
   ]
  },
  {
   "cell_type": "code",
   "execution_count": null,
   "metadata": {},
   "outputs": [],
   "source": [
    "import seaborn as sns\n",
    "from sklearn import metrics\n",
    "\n",
    "\n",
    "n_labels = [1,2,3]\n",
    "LABEL_NAMES = ['BMP','BTR','GAZEL']\n",
    "def create_confusion_matrix(y_pred, y_test):    \n",
    "    #calculate the confusion matrix\n",
    "    confmat = metrics.confusion_matrix(y_true=y_test, y_pred=y_pred)\n",
    "    \n",
    "    fig, ax = plt.subplots(figsize=(7,7))\n",
    "    ax.imshow(confmat, cmap=plt.cm.Blues, alpha=0.5)\n",
    "\n",
    "    n_labels = len(LABEL_NAMES)\n",
    "    ax.set_xticks(np.arange(n_labels))\n",
    "    ax.set_yticks(np.arange(n_labels))\n",
    "    ax.set_xticklabels(LABEL_NAMES)\n",
    "    ax.set_yticklabels(LABEL_NAMES)\n",
    "\n",
    "    # rotate the tick labels and set their alignment.\n",
    "    plt.setp(ax.get_xticklabels(), rotation=45, ha=\"right\", rotation_mode=\"anchor\")\n",
    "    # loop over data dimensions and create text annotations.\n",
    "    for i in range(confmat.shape[0]):\n",
    "        for j in range(confmat.shape[1]):\n",
    "            ax.text(x=i, y=j, s=confmat[i, j], va='center', ha='center')\n",
    "    \n",
    "    # avoid that the first and last row cut in half\n",
    "    bottom, top = ax.get_ylim()\n",
    "    ax.set_ylim(bottom + 0.5, top - 0.5)\n",
    "    \n",
    "    ax.set_title(\"Confusion Matrix\")\n",
    "    ax.set_xlabel('Predicted Label')\n",
    "    ax.set_ylabel('True Label')\n",
    "\n",
    "    plt.tight_layout()\n",
    "    plt.show()\n",
    "\n",
    "# make predictions for test data\n",
    "y_pred = clf.predict(X_test)\n",
    "#print(\"Accuracy : %.2f%%\" % (accuracy_score(y_test, y_pred) * 100))\n",
    "#y_pred = model.predict_classes(X_test)\n",
    "# determine the total accuracy \n",
    "accuracy = metrics.accuracy_score(y_test, y_pred)\n",
    "print(\"Accuracy: %.2f%%\" % (accuracy * 100.0))\n",
    "\n",
    "create_confusion_matrix(y_pred, y_test)\n"
   ]
  },
  {
   "cell_type": "code",
   "execution_count": null,
   "metadata": {},
   "outputs": [],
   "source": [
    "y_pred"
   ]
  },
  {
   "cell_type": "markdown",
   "metadata": {},
   "source": [
    "#### проверка"
   ]
  },
  {
   "cell_type": "code",
   "execution_count": null,
   "metadata": {},
   "outputs": [],
   "source": []
  },
  {
   "cell_type": "code",
   "execution_count": null,
   "metadata": {},
   "outputs": [],
   "source": []
  },
  {
   "cell_type": "code",
   "execution_count": null,
   "metadata": {},
   "outputs": [],
   "source": []
  },
  {
   "cell_type": "code",
   "execution_count": null,
   "metadata": {},
   "outputs": [],
   "source": []
  },
  {
   "cell_type": "code",
   "execution_count": null,
   "metadata": {},
   "outputs": [],
   "source": []
  },
  {
   "cell_type": "code",
   "execution_count": null,
   "metadata": {},
   "outputs": [],
   "source": []
  },
  {
   "cell_type": "code",
   "execution_count": null,
   "metadata": {},
   "outputs": [],
   "source": []
  },
  {
   "cell_type": "code",
   "execution_count": null,
   "metadata": {},
   "outputs": [],
   "source": []
  },
  {
   "cell_type": "code",
   "execution_count": null,
   "metadata": {},
   "outputs": [],
   "source": []
  },
  {
   "cell_type": "code",
   "execution_count": null,
   "metadata": {},
   "outputs": [],
   "source": []
  }
 ],
 "metadata": {
  "kernelspec": {
   "display_name": "Python 3",
   "language": "python",
   "name": "python3"
  },
  "language_info": {
   "codemirror_mode": {
    "name": "ipython",
    "version": 3
   },
   "file_extension": ".py",
   "mimetype": "text/x-python",
   "name": "python",
   "nbconvert_exporter": "python",
   "pygments_lexer": "ipython3",
   "version": "3.7.6"
  }
 },
 "nbformat": 4,
 "nbformat_minor": 4
}
